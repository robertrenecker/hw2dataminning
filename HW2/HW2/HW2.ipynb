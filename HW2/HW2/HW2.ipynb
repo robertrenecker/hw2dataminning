{
 "cells": [
  {
   "cell_type": "markdown",
   "metadata": {},
   "source": [
    "# Homework 2\n",
    "***\n",
    "**Name**: $<$Robert Renecker$>$ \n",
    "***\n",
    "\n",
    "This assignment is due on Moodle by **9:30am on Thrusday September 20th**. Submit only this Jupyter notebook to Moodle.  Do not compress it using tar, rar, zip, etc. Your solutions to analysis questions should be done in Markdown directly below the associated question.  Remember that you are encouraged to discuss the problems with your instructors and classmates, but **you must write all code and solutions on your own**."
   ]
  },
  {
   "cell_type": "raw",
   "metadata": {},
   "source": []
  },
  {
   "cell_type": "markdown",
   "metadata": {},
   "source": [
    "The rules to be followed for the assignment are:\n",
    "\n",
    "- Do **NOT** load or use any Python packages that are not available in Anaconda 3.6. \n",
    "- Some problems with code may be autograded.  If we provide a function or class API **do not** change it.\n",
    "- Do not change the location of the data or data directory.  Use only relative paths to access the data. "
   ]
  },
  {
   "cell_type": "code",
   "execution_count": 2,
   "metadata": {},
   "outputs": [],
   "source": [
    "import pandas as pd\n",
    "import numpy as np\n",
    "import pickle\n",
    "from pathlib import Path\n",
    "import math"
   ]
  },
  {
   "cell_type": "markdown",
   "metadata": {},
   "source": [
    "### [50 points] Problem 1\n",
    "***\n",
    "\n",
    "There are two functions that need to be completed:\n",
    "\n",
    "#### normalization(fname, attr, normType)\n",
    "\n",
    "- This function takes in the location of the data file, the attribute that has to be normalised (one of the values from 'open','high','low','close','volume') and the type of normalization to be performed('min_max' or 'z_score')\n",
    "\n",
    "- Based on the normalisation type that is mentioned, you will have to apply the appropriate formula and return a dictionary where key = original value in the dataset, value = normalised value\n",
    "\n",
    "#### correlation (fname1, attr1, fname2, attr2)\n",
    "\n",
    "- This function takes in the location of the first data file, the attribute that has to be used in the first file, the location of the second data file and the attribute that has to be used in the second file.\n",
    "\n",
    "- This function has to calculate the correlation coefficient between the two attributes mentioned in the two files.\n",
    "\n",
    "Note:\n",
    "- Download both the data files and store it in the location \"data/dataset_1.csv\" and \"data/dataset_2.csv\" . Please maintain this as it would be necessary while grading.\n",
    "- Do not change the variable names of the returned values.\n",
    "- If the test case fails, one way to debug is to see the output of the testing data and comparing it to your output.\n",
    "- Initially the test case will be failed as there is no code in the below two functions."
   ]
  },
  {
   "cell_type": "code",
   "execution_count": 2,
   "metadata": {},
   "outputs": [],
   "source": [
    "def normalization (fname, attr, normType):\n",
    "    '''\n",
    "    Input Parameters:\n",
    "        fname: Name of the csv file contiaining historical quotes\n",
    "        attr: The attribute to be normalized \n",
    "        normType: The type of normalization \n",
    "    Output:\n",
    "        a dictionary where each key is the original column value and each value is the normalised column value. \n",
    "    '''\n",
    "    \n",
    "    result = {}\n",
    "    df = pd.read_csv(fname);\n",
    "    allAttrArray = df.loc[:,attr];\n",
    "    if (normType == 'min_max'):\n",
    "        minVal = min(allAttrArray);\n",
    "        maxVal = max(allAttrArray);\n",
    "        for i in allAttrArray:\n",
    "            result[i] = ((i - minVal)/(maxVal - minVal))*(1-0)+0;\n",
    "    elif(normType== 'z_score'):\n",
    "        tempMean = sum(allAttrArray);\n",
    "        tempMean /= len(allAttrArray);\n",
    "\n",
    "        for i in allAttrArray:\n",
    "            result[i] = (((i-tempMean)**2)/len(allAttrArray))**(1/2);\n",
    "            \n",
    "    else:\n",
    "        print(\"no normType given\");\n",
    "   \n",
    "    #TODO: Write code given the Input / Output Paramters.\n",
    "    \n",
    "    return result"
   ]
  },
  {
   "cell_type": "code",
   "execution_count": 3,
   "metadata": {},
   "outputs": [],
   "source": [
    "def correlation (fname1, attr1, fname2, attr2):\n",
    "    '''\n",
    "    Input Parameters:\n",
    "        fname1: name of the first csv file containing historical quotes\n",
    "        attr1: The attribute to consider in the first csv file (fname1)\n",
    "        fname2: name of the second csv file containing historical quotes\n",
    "        attr2: The attribute to consider in the second csv file (fname2)\n",
    "        \n",
    "    Output:\n",
    "        correlation coefficient between attr1 in fname1 and attr2 in fname2\n",
    "    '''\n",
    "    df1 = pd.read_csv(fname1);\n",
    "    df2 = pd.read_csv(fname2);\n",
    "    allAttrArray1 = df1.loc[:,attr1];\n",
    "   \n",
    "    allAttrArray2 = df2.loc[:,attr2];\n",
    "    mean1 = sum(allAttrArray1)/len(allAttrArray1);\n",
    "    mean2 = sum(allAttrArray2)/len(allAttrArray2);\n",
    "    #make a list of (a-A) and (b-B)\n",
    "    temp1 = map(lambda x: x-mean1, allAttrArray1);\n",
    "    temp2 = map(lambda x: x-mean2, allAttrArray2);\n",
    "\n",
    "    tempSum = [t1 * t2 for (t1,t2) in zip(temp1, temp2)];\n",
    "    numeratorSum = sum(tempSum);\n",
    "    temp1 = map(lambda x: x-mean1, allAttrArray1);\n",
    "    temp2 = map(lambda x: x-mean2, allAttrArray2); \n",
    "    \n",
    "    std1 = ((sum([t**2 for t in temp1]))/len(allAttrArray1))**(1/2);\n",
    "    std2 = ((sum([t**2 for t in temp2]))/len(allAttrArray2))**(1/2);\n",
    "    \n",
    "    \n",
    "    correlation_coefficient = (numeratorSum/(len(allAttrArray1)*(std1)*(std2)))\n",
    "    \n",
    "    #TODO: Write code given the Input / Output Paramters.\n",
    "    \n",
    "    return correlation_coefficient"
   ]
  },
  {
   "cell_type": "code",
   "execution_count": 4,
   "metadata": {},
   "outputs": [
    {
     "name": "stderr",
     "output_type": "stream",
     "text": [
      "..\n",
      "----------------------------------------------------------------------\n",
      "Ran 2 tests in 0.015s\n",
      "\n",
      "OK\n"
     ]
    },
    {
     "data": {
      "text/plain": [
       "<unittest.runner.TextTestResult run=2 errors=0 failures=0>"
      ]
     },
     "execution_count": 4,
     "metadata": {},
     "output_type": "execute_result"
    }
   ],
   "source": [
    "import unittest\n",
    "\n",
    "class TestKnn(unittest.TestCase):\n",
    "    def setUp(self):\n",
    "        self.loc1 = \"data/test1.csv\"\n",
    "        self.loc2 = \"data/test2.csv\"\n",
    "        file = open('data/testing_normalization', 'rb')\n",
    "        self.data_normalization = pickle.load(file)\n",
    "        file.close()\n",
    "        file = open('data/testing_correlation', 'rb')\n",
    "        self.data_correlation = pickle.load(file)\n",
    "        file.close()\n",
    "        \n",
    "    def test0(self):\n",
    "        \"\"\"\n",
    "        Test the label counter \n",
    "        \"\"\"\n",
    "        result = normalization(self.loc2,\"open\",\"min_max\")\n",
    "        for key,value in self.data_normalization.items():\n",
    "            self.assertAlmostEqual(result[key],value, places = 1)\n",
    "            \n",
    "    def test1(self):\n",
    "        \"\"\"\n",
    "        Test the label counter \n",
    "        \"\"\"\n",
    "        result = correlation(self.loc1,\"close\",self.loc2,\"close\")\n",
    "        self.assertAlmostEqual(result,self.data_correlation, places = 1)\n",
    "   \n",
    "tests = TestKnn()\n",
    "tests_to_run = unittest.TestLoader().loadTestsFromModule(tests)\n",
    "unittest.TextTestRunner().run(tests_to_run)"
   ]
  },
  {
   "cell_type": "markdown",
   "metadata": {},
   "source": [
    "### [50 points] Problem 2\n",
    "***\n",
    "\n",
    "There are 4 functions that need to be completed:\n",
    "\n",
    "1. For each of the graphs, the input function parameters and the expected output has been mentioned below.\n",
    "\n",
    "Note:\n",
    "- Make sure the dataset you are using is the one mentioned in the problem statement in moodle. The link has been provided.\n",
    "- After defining your functions. Create another block to call these functions by passing the attributes mentioned in moodle."
   ]
  },
  {
   "cell_type": "code",
   "execution_count": null,
   "metadata": {},
   "outputs": [],
   "source": [
    "import matplotlib \n",
    "from matplotlib import pyplot as plt\n",
    "print(\"HWELO\")\n",
    "# Plot size to 14\" x 7\"\n",
    "plt.rc('figure', figsize = (14, 7))\n",
    "# Font size to 14s\n",
    "plt.rc('font', size = 14)\n",
    "# Do not display top and right frame lines\n",
    "plt.rc('axes.spines', top = False, right = False)\n",
    "# Remove grid lines\n",
    "plt.rc('axes', grid = False)\n",
    "# Set backgound color to white\n",
    "plt.rc('axes', facecolor = 'white')"
   ]
  },
  {
   "cell_type": "code",
   "execution_count": null,
   "metadata": {},
   "outputs": [],
   "source": [
    "def temporal_graph(x_data,y_data,xlabel,ylabel,title):\n",
    "    '''Input : x_data and y_data are the lists containing the data points for x and y axis\n",
    "    xlabel and ylabel are the labels that should be given to the corresponding axes\n",
    "    title contains the title of the graph\n",
    "    \n",
    "    Output : A temporal graph displayed'''\n",
    "    \n",
    "    x = x_data\n",
    "    y1 = y_data.loc[:,'open'].values.tolist();\n",
    "    y2 = y_data.loc[:,'close'].values.tolist();\n",
    "    print(\"stopped here\")\n",
    "    plt.plot(x, y1, 'r--', x, y2, 'bs');\n",
    "    plt.show()\n",
    "    \n",
    "    \n",
    "    return 0;"
   ]
  },
  {
   "cell_type": "code",
   "execution_count": null,
   "metadata": {},
   "outputs": [],
   "source": [
    "def boxplot(x_data,y_data, base_color, median_color, x_label, y_label, title):\n",
    "    '''Input : x_data and y_data are the lists containing the data points for x and y axis\n",
    "    base_color and median_color can be used to set colors in the graph.\n",
    "    xlabel and ylabel are the labels that should be given to the corresponding axes\n",
    "    title contains the title of the graph.\n",
    "    \n",
    "    Output : A boxplot displayed'''"
   ]
  },
  {
   "cell_type": "code",
   "execution_count": null,
   "metadata": {},
   "outputs": [],
   "source": [
    "def histogram(data, x_label, y_label, title):\n",
    "    '''Input : data is the list containing the data points for histogram buckets\n",
    "    xlabel and ylabel are the labels that should be given to the corresponding axes\n",
    "    title contains the title of the graph\n",
    "    \n",
    "    Output : A histogram displayed'''"
   ]
  },
  {
   "cell_type": "code",
   "execution_count": null,
   "metadata": {},
   "outputs": [],
   "source": [
    "def amzn_new_plot():\n",
    "    '''Define this function as you would seem fit to display the plot that interests you using\n",
    "    the same dataset. Define your function parameters and display the resulting plots'''"
   ]
  },
  {
   "cell_type": "code",
   "execution_count": null,
   "metadata": {},
   "outputs": [],
   "source": [
    "df = pd.read_csv('data/AMZN-5Y-HistoricalQuotes.csv');\n",
    "print(\"HELLO\")\n",
    "\n",
    "#temporal_graph(df.loc[:,'date'], df.loc[:,['open', 'close']], 'Date', ['open','close'],'Temporal change for open and close of markets AMZN.');"
   ]
  },
  {
   "cell_type": "code",
   "execution_count": null,
   "metadata": {},
   "outputs": [],
   "source": []
  },
  {
   "cell_type": "code",
   "execution_count": null,
   "metadata": {},
   "outputs": [],
   "source": []
  },
  {
   "cell_type": "code",
   "execution_count": null,
   "metadata": {},
   "outputs": [],
   "source": []
  }
 ],
 "metadata": {
  "kernelspec": {
   "display_name": "Python 3",
   "language": "python",
   "name": "python3"
  },
  "language_info": {
   "codemirror_mode": {
    "name": "ipython",
    "version": 3
   },
   "file_extension": ".py",
   "mimetype": "text/x-python",
   "name": "python",
   "nbconvert_exporter": "python",
   "pygments_lexer": "ipython3",
   "version": "3.6.5"
  }
 },
 "nbformat": 4,
 "nbformat_minor": 2
}
